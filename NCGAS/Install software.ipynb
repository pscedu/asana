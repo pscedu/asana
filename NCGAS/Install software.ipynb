{
 "cells": [
  {
   "cell_type": "markdown",
   "metadata": {},
   "source": [
    "# Connect to Asana instance"
   ]
  },
  {
   "cell_type": "code",
   "execution_count": 1,
   "metadata": {},
   "outputs": [],
   "source": [
    "import os\n",
    "import asana\n",
    "from pathlib import Path\n",
    "import datetime\n",
    "\n",
    "# @icaoberg Read secrets. Assumes file exists in ~/.ASANA_SECRETS\n",
    "file = str(Path.home()) + os.sep + '.ASANA_SECRETS'\n",
    "exec(open(file).read())\n",
    "\n",
    "client = asana.Client.access_token(PERSONAL_ACCESS_TOKEN)"
   ]
  },
  {
   "cell_type": "markdown",
   "metadata": {},
   "source": [
    "## Information and parameters"
   ]
  },
  {
   "cell_type": "code",
   "execution_count": 2,
   "metadata": {},
   "outputs": [],
   "source": [
    "#SOFTWARE THAT I WANT TO INSTALL\n",
    "software='raxml'\n",
    "version='8.2.12'\n",
    "\n",
    "username='1183587634011025' #icaoberg\n",
    "workspace='1132331877475002' #PSC\n",
    "team='1192784280891409' #NCGAS\n",
    "\n",
    "maindelta=7\n",
    "when=datetime.date.today() + datetime.timedelta(days=maindelta+1)"
   ]
  },
  {
   "cell_type": "markdown",
   "metadata": {},
   "source": [
    "# Create project"
   ]
  },
  {
   "cell_type": "code",
   "execution_count": 3,
   "metadata": {},
   "outputs": [],
   "source": [
    "params = {'name':'Install ' + software + ' version ' + version, \n",
    "          'color':'light-red', \\\n",
    "          'archived':False, \\\n",
    "          'is_template':False, \\\n",
    "          'public': False, \\\n",
    "          'notes':'Software that needs to be tested and installed on Bridges/Bridges2.', \\\n",
    "          'default_view':'calendar', \\\n",
    "          'due_on':str(when + datetime.timedelta(days=7)), \\\n",
    "          'start_on':str(when), \\\n",
    "          'created_by':client.users.get_user(username)['name']}\n",
    "\n",
    "answer = client.projects.create_in_team( team, params )\n",
    "project = answer['gid']"
   ]
  },
  {
   "cell_type": "markdown",
   "metadata": {},
   "source": [
    "# Create tasks"
   ]
  },
  {
   "cell_type": "code",
   "execution_count": 4,
   "metadata": {},
   "outputs": [],
   "source": [
    "strings = { 'Check if the latest version of the software is hosted on Biocontainers as a Singularity image', \\\n",
    "            'Create repository on GitLab to host recipes and scripts', \\\n",
    "            'Create or find the Singularity recipe', \\\n",
    "            'Create script for each binary in library/package', \\\n",
    "            'Create a modulefile',\n",
    "            'Pull or build Singularity on testing server', \\\n",
    "            'Find data to test the software and a script to test the image', \n",
    "            'Add recipe, modulefile and scripts to repository in GitLab',\n",
    "            'Clone or copy to pylon5 on Bridges', \n",
    "            'Install modulefile locally and test Singularity image', \\\n",
    "            'Add Singularity image and scripts to /opt/packages', \\\n",
    "            'Add modulefile to modules repository and create a pull request',\n",
    "            'Add modulefile to /opt/modules', \\\n",
    "            'Test one last time if needed' }\n",
    "\n",
    "deltas=[1, 1, 2, 2, 3, 3, 4, 4, 5, 5, 6, 6, 7, 7]\n",
    "\n",
    "for delta, string in zip(deltas, strings):\n",
    "    params={'name': string, \\\n",
    "            'assignee': username, \\\n",
    "            'projects': [project], \\\n",
    "            'due_on': str(when+datetime.timedelta(days=maindelta+1+delta)), \\\n",
    "            'start_on': str(when)}\n",
    "\n",
    "    answer = client.tasks.create_in_workspace(workspace,params)"
   ]
  },
  {
   "cell_type": "markdown",
   "metadata": {},
   "source": [
    "# Rename default section"
   ]
  },
  {
   "cell_type": "code",
   "execution_count": 5,
   "metadata": {},
   "outputs": [],
   "source": [
    "answer = client.sections.find_by_project(project)\n",
    "section = next(answer)\n",
    "sectionid = section['gid']\n",
    "params = {'name':'To Do'}\n",
    "\n",
    "answer = client.sections.update( sectionid, params )"
   ]
  },
  {
   "cell_type": "markdown",
   "metadata": {},
   "source": [
    "# Create sections"
   ]
  },
  {
   "cell_type": "code",
   "execution_count": 6,
   "metadata": {},
   "outputs": [],
   "source": [
    "strings = { 'In Progress', \\\n",
    "           'Ready to test/testing on Bridges', \\\n",
    "           'Ready to test/testing on Bridges2', \\\n",
    "           'Done'}\n",
    "\n",
    "for string in strings:\n",
    "    params={'name': string}\n",
    "    answer = client.sections.create_in_project(project, params)"
   ]
  }
 ],
 "metadata": {
  "kernelspec": {
   "display_name": "Python 3 (ipykernel)",
   "language": "python",
   "name": "python3"
  },
  "language_info": {
   "codemirror_mode": {
    "name": "ipython",
    "version": 3
   },
   "file_extension": ".py",
   "mimetype": "text/x-python",
   "name": "python",
   "nbconvert_exporter": "python",
   "pygments_lexer": "ipython3",
   "version": "3.9.13"
  }
 },
 "nbformat": 4,
 "nbformat_minor": 4
}

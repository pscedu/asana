{
 "cells": [
  {
   "cell_type": "markdown",
   "metadata": {},
   "source": [
    "# Get all tasks"
   ]
  },
  {
   "cell_type": "code",
   "execution_count": null,
   "metadata": {},
   "outputs": [],
   "source": [
    "import os\n",
    "import asana\n",
    "from pathlib import Path\n",
    "from tqdm import tqdm\n",
    "import pandas as pd\n",
    "\n",
    "# @icaoberg ignore all warnings, why not?\n",
    "import warnings\n",
    "warnings.filterwarnings(\"ignore\")\n",
    "\n",
    "# @icaoberg Read secrets. assumes file exists in ~/.ASANA_SECRETS\n",
    "file = str(Path.home()) + os.sep + '.ASANA_SECRETS'\n",
    "exec(open(file).read())"
   ]
  },
  {
   "cell_type": "code",
   "execution_count": null,
   "metadata": {},
   "outputs": [],
   "source": [
    "client = asana.Client.access_token(PERSONAL_ACCESS_TOKEN)\n",
    "# @icaoberg this is done on Jupyter Lab\n",
    "client.options['client_name'] = 'Jupyter Lab' "
   ]
  },
  {
   "cell_type": "code",
   "execution_count": null,
   "metadata": {},
   "outputs": [],
   "source": [
    "# this gets the personal information of the current user\n",
    "me = client.users.get_user(\"me\")\n",
    "# all I care are the workspaces\n",
    "workspaces = me['workspaces']"
   ]
  },
  {
   "cell_type": "code",
   "execution_count": null,
   "metadata": {},
   "outputs": [],
   "source": [
    "# the two workspaces associated with my account are HuBMAP and PSC\n",
    "tasks = client.tasks.find_all(workspace=workspaces[1]['gid'], assignee='icaoberg@psc.edu')"
   ]
  },
  {
   "cell_type": "code",
   "execution_count": null,
   "metadata": {},
   "outputs": [],
   "source": [
    "# unfornately as it is, this iterator goes thru all tasks, both open and closed\n",
    "todo = []\n",
    "for task in tqdm(tasks):\n",
    "    tid = task['gid']\n",
    "    tmetadata = client.tasks.find_by_id(task=tid)\n",
    "    try:\n",
    "        project = tmetadata['projects'][0]['name']\n",
    "    except:\n",
    "        project = None\n",
    "        \n",
    "    todo.append({'due_on':tmetadata['due_on'], \\\n",
    "                 'completed':tmetadata['completed'], \\\n",
    "                'description':tmetadata['name'], \\\n",
    "                 'project':project, \\\n",
    "                 'tags':tmetadata['tags'], \\\n",
    "                'link':tmetadata['permalink_url']})"
   ]
  },
  {
   "cell_type": "code",
   "execution_count": null,
   "metadata": {},
   "outputs": [],
   "source": [
    "df = pd.DataFrame(todo)\n",
    "df = df[df['completed']==False].sort_values('due_on')\n",
    "print(df[['due_on','description', 'link']].to_markdown(index=False,tablefmt=\"github\"))"
   ]
  },
  {
   "cell_type": "markdown",
   "metadata": {},
   "source": [
    "## Pretty print for thermal printer"
   ]
  },
  {
   "cell_type": "code",
   "execution_count": null,
   "metadata": {},
   "outputs": [],
   "source": [
    "def __print_tag(tags):\n",
    "    str = ''\n",
    "    \n",
    "    if not tags:\n",
    "        return str\n",
    "    \n",
    "    for tag in tags:\n",
    "        str = f'{str} #{tag[\"name\"]}'\n",
    "        \n",
    "    return str\n",
    "        \n",
    "for index, datum in tqdm(df.iterrows()):\n",
    "    print(f'* [{datum[\"due_on\"]}] {datum[\"description\"]}{__print_tag(datum[\"tags\"])}')"
   ]
  }
 ],
 "metadata": {
  "kernelspec": {
   "display_name": "Python 3 (ipykernel)",
   "language": "python",
   "name": "python3"
  },
  "language_info": {
   "codemirror_mode": {
    "name": "ipython",
    "version": 3
   },
   "file_extension": ".py",
   "mimetype": "text/x-python",
   "name": "python",
   "nbconvert_exporter": "python",
   "pygments_lexer": "ipython3",
   "version": "3.9.13"
  }
 },
 "nbformat": 4,
 "nbformat_minor": 4
}

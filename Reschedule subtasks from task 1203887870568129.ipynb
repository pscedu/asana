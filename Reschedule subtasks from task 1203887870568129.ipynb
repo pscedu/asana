{
 "cells": [
  {
   "cell_type": "markdown",
   "metadata": {},
   "source": [
    "# Reschedule subtasks from task 1203887870568129"
   ]
  },
  {
   "cell_type": "code",
   "execution_count": null,
   "metadata": {},
   "outputs": [],
   "source": [
    "import os\n",
    "import asana\n",
    "from pathlib import Path\n",
    "from tqdm import tqdm\n",
    "import pandas as pd\n",
    "\n",
    "# @icaoberg ignore all warnings, why not?\n",
    "import warnings\n",
    "warnings.filterwarnings(\"ignore\")\n",
    "\n",
    "# @icaoberg Read secrets. assumes file exists in ~/.ASANA_SECRETS\n",
    "file = str(Path.home()) + os.sep + '.ASANA_SECRETS'\n",
    "exec(open(file).read())"
   ]
  },
  {
   "cell_type": "code",
   "execution_count": null,
   "metadata": {},
   "outputs": [],
   "source": [
    "client = asana.Client.access_token(PERSONAL_ACCESS_TOKEN)\n",
    "# @icaoberg this is done on Jupyter Lab\n",
    "client.options['client_name'] = 'Jupyter Lab' \n",
    "\n",
    "# this gets the personal information of the current user\n",
    "me = client.users.get_user(\"me\")\n",
    "# all I care are the workspaces\n",
    "workspaces = me['workspaces']\n",
    "\n",
    "# the two workspaces associated with my account are HuBMAP and PSC\n",
    "tasks = client.tasks.find_all(workspace=workspaces[1]['gid'], assignee='icaoberg@psc.edu')"
   ]
  },
  {
   "cell_type": "code",
   "execution_count": null,
   "metadata": {},
   "outputs": [],
   "source": [
    "tid = '1203887870568129'\n",
    "tmetadata = client.tasks.find_by_id(task=tid)"
   ]
  },
  {
   "cell_type": "code",
   "execution_count": null,
   "metadata": {},
   "outputs": [],
   "source": [
    "#tags\n",
    "tags = client.tags.get_tags(workspace=workspaces[1]['gid'])\n",
    "for tag in tags:\n",
    "    if tag['name']=='data-wrangling':\n",
    "        print(tag)"
   ]
  },
  {
   "cell_type": "code",
   "execution_count": null,
   "metadata": {},
   "outputs": [],
   "source": [
    "#add `data-wrangling` tag to all subtasks\n",
    "subtasks = client.tasks.get_subtasks_for_task(task_gid=tid)\n",
    "for subtask in tqdm(subtasks_:\n",
    "    client.tasks.update_task(subtask['gid'], {'due_on':'2023-05-19','tag':['1204575875944537']})"
   ]
  }
 ],
 "metadata": {
  "kernelspec": {
   "display_name": "Python 3 (ipykernel)",
   "language": "python",
   "name": "python3"
  },
  "language_info": {
   "codemirror_mode": {
    "name": "ipython",
    "version": 3
   },
   "file_extension": ".py",
   "mimetype": "text/x-python",
   "name": "python",
   "nbconvert_exporter": "python",
   "pygments_lexer": "ipython3",
   "version": "3.9.13"
  }
 },
 "nbformat": 4,
 "nbformat_minor": 4
}

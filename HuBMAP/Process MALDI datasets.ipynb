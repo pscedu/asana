{
 "cells": [
  {
   "cell_type": "markdown",
   "metadata": {},
   "source": [
    "# Connect to Asana instance"
   ]
  },
  {
   "cell_type": "code",
   "execution_count": null,
   "metadata": {},
   "outputs": [],
   "source": [
    "import os\n",
    "import asana\n",
    "from pathlib import Path\n",
    "import datetime\n",
    "\n",
    "# @icaoberg Read secrets. Assumes file exists in ~/.ASANA_SECRETS\n",
    "file = str(Path.home()) + os.sep + '.ASANA_SECRETS'\n",
    "exec(open(file).read())\n",
    "\n",
    "client = asana.Client.access_token(PERSONAL_ACCESS_TOKEN)"
   ]
  },
  {
   "cell_type": "markdown",
   "metadata": {},
   "source": [
    "## Information and parameters"
   ]
  },
  {
   "cell_type": "code",
   "execution_count": null,
   "metadata": {},
   "outputs": [],
   "source": [
    "username='1183587634011025' #icaoberg\n",
    "workspace='1132331877475002' #PSC\n",
    "team='1138475663201888' #HuBMAP\n",
    "\n",
    "maindelta=7\n",
    "when=datetime.date.today() + datetime.timedelta(days=maindelta+1)"
   ]
  },
  {
   "cell_type": "markdown",
   "metadata": {},
   "source": [
    "# Create project"
   ]
  },
  {
   "cell_type": "code",
   "execution_count": null,
   "metadata": {},
   "outputs": [],
   "source": [
    "params = {'name':'Reprocess VU MALDI IMS dataset ', \n",
    "          'color':'dark-green', \\\n",
    "          'archived':False, \\\n",
    "          'is_template':False, \\\n",
    "          'public': True, \\\n",
    "          'notes':'.', \\\n",
    "          'default_view':'calendar', \\\n",
    "          'due_on':str(when + datetime.timedelta(days=7)), \\\n",
    "          'start_on':str(when), \\\n",
    "          'created_by':client.users.get_user(username)['name']}\n",
    "\n",
    "answer = client.projects.create_in_team( team, params )\n",
    "project = answer['gid']"
   ]
  },
  {
   "cell_type": "markdown",
   "metadata": {},
   "source": [
    "# Create tasks"
   ]
  },
  {
   "cell_type": "code",
   "execution_count": null,
   "metadata": {},
   "outputs": [],
   "source": [
    "datasets = ['HBM393.RNFV.949','HBM962.PZXB.965','HBM794.JRXQ.455',\n",
    "            'HBM488.HRWV.754','HBM568.VXSK.299','HBM348.NCLT.522',\n",
    "            'HBM447.SQFP.455','HBM966.RXFK.673','HBM556.CGCS.879',\n",
    "            'HBM784.HQQK.452','HBM377.MFPF.328','HBM759.QJTL.573',\n",
    "            'HBM393.LXBW.274','HBM856.FWBK.447','HBM245.BVDK.888',\n",
    "            'HBM938.XFGN.695','HBM869.RKXX.583','HBM782.SCDT.743',\n",
    "            'HBM453.RTXK.849','HBM793.CTLW.723','HBM773.XBNC.394',\n",
    "            'HBM886.MPTX.392','HBM573.JRSG.822','HBM884.RCMT.655',\n",
    "            'HBM254.BWKF.959','HBM787.DXFR.498','HBM543.RWZD.568',\n",
    "            'HBM662.MPBS.458','HBM437.JJKP.885','HBM963.DBXF.369',\n",
    "            'HBM856.CDPK.464','HBM928.HZCW.757','HBM459.PHNF.976',\n",
    "            'HBM856.RFNW.734']\n",
    "\n",
    "strings = []\n",
    "deltas = []\n",
    "\n",
    "for dataset in datasets:\n",
    "    strings.append(f'Change data type on all OME.TIFF images in {dataset}')\n",
    "    deltas.extend([7])\n",
    "\n",
    "for delta, string in zip(deltas, strings):\n",
    "    params={'name': string, \\\n",
    "            'assignee': username, \\\n",
    "            'projects': [project], \\\n",
    "            'due_on': str(when+datetime.timedelta(days=maindelta+1+delta)), \\\n",
    "            'notes': 'Error QA', \\\n",
    "            'start_on': str(when)}\n",
    "\n",
    "    answer = client.tasks.create_in_workspace(workspace,params)"
   ]
  },
  {
   "cell_type": "code",
   "execution_count": null,
   "metadata": {},
   "outputs": [],
   "source": [
    "datasets = ['HBM749.MMKH.463','HBM578.WFKM.657','HBM252.SRFF.799','HBM265.RKZN.565',\n",
    "            'HBM477.FNGG.257','HBM925.WHKF.243','HBM286.ZZNV.536','HBM946.ZHFC.683',\n",
    "            'HBM437.BGCD.226','HBM747.PXSM.373','HBM959.MGHL.844','HBM632.SGXL.444',\n",
    "            'HBM777.STQB.672','HBM229.MHGL.765','HBM862.DKNM.597','HBM493.VRQM.643',\n",
    "            'HBM544.VSBJ.293','HBM826.XDBN.955','HBM975.BJRS.622','HBM337.XRWN.985',\n",
    "            'HBM494.CRGT.577','HBM758.SQVJ.597','HBM545.ZDPS.746','HBM554.PGRJ.942',\n",
    "            'HBM472.NWBK.884','HBM349.DTWT.383','HBM644.HLRW.739','HBM799.DZFZ.778',\n",
    "            'HBM693.CJXC.787','HBM859.ZNHT.632']\n",
    "\n",
    "strings = []\n",
    "deltas = []\n",
    "\n",
    "for dataset in datasets:\n",
    "    strings.append(f'Change data type on all OME.TIFF images in {dataset}')\n",
    "    deltas.extend([7])\n",
    "\n",
    "for delta, string in zip(deltas, strings):\n",
    "    params={'name': string, \\\n",
    "            'assignee': username, \\\n",
    "            'projects': [project], \\\n",
    "            'due_on': str(when+datetime.timedelta(days=maindelta+1+delta)), \\\n",
    "            'notes': 'New', \\\n",
    "            'start_on': str(when)}\n",
    "\n",
    "    answer = client.tasks.create_in_workspace(workspace,params)"
   ]
  },
  {
   "cell_type": "markdown",
   "metadata": {},
   "source": [
    "# Rename default section"
   ]
  },
  {
   "cell_type": "code",
   "execution_count": null,
   "metadata": {},
   "outputs": [],
   "source": [
    "answer = client.sections.find_by_project(project)\n",
    "section = next(answer)\n",
    "sectionid = section['gid']\n",
    "params = {'name':'To Do'}\n",
    "\n",
    "answer = client.sections.update( sectionid, params )"
   ]
  },
  {
   "cell_type": "markdown",
   "metadata": {},
   "source": [
    "# Create sections"
   ]
  },
  {
   "cell_type": "code",
   "execution_count": null,
   "metadata": {},
   "outputs": [],
   "source": [
    "strings = { 'In Progress', \\\n",
    "           'Done'}\n",
    "\n",
    "for string in strings:\n",
    "    params={'name': string}\n",
    "    answer = client.sections.create_in_project(project, params)"
   ]
  }
 ],
 "metadata": {
  "kernelspec": {
   "display_name": "Python 3 (ipykernel)",
   "language": "python",
   "name": "python3"
  },
  "language_info": {
   "codemirror_mode": {
    "name": "ipython",
    "version": 3
   },
   "file_extension": ".py",
   "mimetype": "text/x-python",
   "name": "python",
   "nbconvert_exporter": "python",
   "pygments_lexer": "ipython3",
   "version": "3.9.13"
  }
 },
 "nbformat": 4,
 "nbformat_minor": 4
}

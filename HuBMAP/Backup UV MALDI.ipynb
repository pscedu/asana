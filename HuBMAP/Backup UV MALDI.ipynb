{
 "cells": [
  {
   "cell_type": "code",
   "execution_count": null,
   "id": "67e8d447-1ac3-4633-aba0-b160b4e3ef26",
   "metadata": {},
   "outputs": [],
   "source": [
    "import hubmapbags\n",
    "from tqdm import tqdm\n",
    "import shutil\n",
    "instance = 'prod'\n",
    "token = 'Ag3dlklO3p2r4vGKp4bq58xkX2G5x85dWkd8EyJGDKNkbQ1gE1cVClK6odkMWeMbNbMxgjqzPyd4qvhdX0bNjcBJ95'"
   ]
  },
  {
   "cell_type": "code",
   "execution_count": null,
   "id": "065976d4-72ed-4007-b312-b3541eef2afb",
   "metadata": {},
   "outputs": [],
   "source": [
    "datasets = ['HBM393.RNFV.949','HBM962.PZXB.965','HBM794.JRXQ.455',\n",
    "            'HBM488.HRWV.754','HBM568.VXSK.299','HBM348.NCLT.522',\n",
    "            'HBM447.SQFP.455','HBM966.RXFK.673','HBM556.CGCS.879',\n",
    "            'HBM784.HQQK.452','HBM377.MFPF.328','HBM759.QJTL.573',\n",
    "            'HBM393.LXBW.274','HBM856.FWBK.447','HBM245.BVDK.888',\n",
    "            'HBM938.XFGN.695','HBM869.RKXX.583','HBM782.SCDT.743',\n",
    "            'HBM453.RTXK.849','HBM793.CTLW.723','HBM773.XBNC.394',\n",
    "            'HBM886.MPTX.392','HBM573.JRSG.822','HBM884.RCMT.655',\n",
    "            'HBM254.BWKF.959','HBM787.DXFR.498','HBM543.RWZD.568',\n",
    "            'HBM662.MPBS.458','HBM437.JJKP.885','HBM963.DBXF.369',\n",
    "            'HBM856.CDPK.464','HBM928.HZCW.757','HBM459.PHNF.976',\n",
    "            'HBM856.RFNW.734','HBM749.MMKH.463','HBM578.WFKM.657',\n",
    "            'HBM252.SRFF.799','HBM265.RKZN.565','HBM477.FNGG.257',\n",
    "            'HBM925.WHKF.243','HBM286.ZZNV.536','HBM946.ZHFC.683',\n",
    "            'HBM437.BGCD.226','HBM747.PXSM.373','HBM959.MGHL.844',\n",
    "            'HBM632.SGXL.444','HBM777.STQB.672','HBM229.MHGL.765',\n",
    "            'HBM862.DKNM.597','HBM493.VRQM.643','HBM544.VSBJ.293',\n",
    "            'HBM826.XDBN.955','HBM975.BJRS.622','HBM337.XRWN.985',\n",
    "            'HBM494.CRGT.577','HBM758.SQVJ.597','HBM545.ZDPS.746',\n",
    "            'HBM554.PGRJ.942','HBM472.NWBK.884','HBM349.DTWT.383',\n",
    "            'HBM644.HLRW.739','HBM799.DZFZ.778','HBM693.CJXC.787',\n",
    "            'HBM859.ZNHT.632']"
   ]
  },
  {
   "cell_type": "code",
   "execution_count": null,
   "id": "62011cae-e838-4267-9c6d-72aca50b55f8",
   "metadata": {},
   "outputs": [],
   "source": [
    "directories = []\n",
    "\n",
    "for dataset in tqdm(datasets):\n",
    "    directory = hubmapbags.apis.get_directory(dataset, instance=instance, token=token)\n",
    "    directory = directory.replace('/hive/hubmap/data/public/','/hive/hubmap/data/consortium/Vanderbilt TMC/')\n",
    "    directories.append(directory)"
   ]
  },
  {
   "cell_type": "code",
   "execution_count": null,
   "id": "41b25e56-24c8-4eb3-b798-398f964acd44",
   "metadata": {},
   "outputs": [],
   "source": [
    "directories"
   ]
  },
  {
   "cell_type": "code",
   "execution_count": null,
   "id": "56df96a4-4512-4b0e-85a8-5ab37896f8f5",
   "metadata": {},
   "outputs": [],
   "source": [
    "destination = '/hive/users/icaoberg/backups/MALDI'"
   ]
  },
  {
   "cell_type": "code",
   "execution_count": null,
   "id": "3904eeb7-c4b8-44f5-9905-3ed56c7297ef",
   "metadata": {},
   "outputs": [],
   "source": [
    "for directory in directories:\n",
    "    shutil.copytree(directory, f'{destination}/{directory.replace(\"/hive/hubmap/data/consortium/Vanderbilt TMC/\",\"\")}')"
   ]
  }
 ],
 "metadata": {
  "kernelspec": {
   "display_name": "Python 3 (ipykernel)",
   "language": "python",
   "name": "python3"
  },
  "language_info": {
   "codemirror_mode": {
    "name": "ipython",
    "version": 3
   },
   "file_extension": ".py",
   "mimetype": "text/x-python",
   "name": "python",
   "nbconvert_exporter": "python",
   "pygments_lexer": "ipython3",
   "version": "3.9.13"
  }
 },
 "nbformat": 4,
 "nbformat_minor": 5
}

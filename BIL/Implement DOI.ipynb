{
 "cells": [
  {
   "cell_type": "markdown",
   "metadata": {},
   "source": [
    "# Connect to Asana instance"
   ]
  },
  {
   "cell_type": "code",
   "execution_count": null,
   "metadata": {},
   "outputs": [],
   "source": [
    "import os\n",
    "import asana\n",
    "from pathlib import Path\n",
    "import math\n",
    "import datetime\n",
    "import pandas as pd\n",
    "\n",
    "# @icaoberg Read secrets. Assumes file exists in ~/.ASANA_SECRETS\n",
    "file = str(Path.home()) + os.sep + '.ASANA_SECRETS'\n",
    "exec(open(file).read())\n",
    "\n",
    "client = asana.Client.access_token(PERSONAL_ACCESS_TOKEN)"
   ]
  },
  {
   "cell_type": "markdown",
   "metadata": {},
   "source": [
    "## Information and parameters"
   ]
  },
  {
   "cell_type": "code",
   "execution_count": null,
   "metadata": {},
   "outputs": [],
   "source": [
    "#SOFTWARE THAT I WANT TO INSTALL\n",
    "username='1183587634011025' #icaoberg\n",
    "workspace='1132331877475002' #PSC\n",
    "team='1192784280891412' #Brain Image Library\n",
    "\n",
    "maindelta=30\n",
    "when=datetime.date.today() + datetime.timedelta(days=maindelta+1)"
   ]
  },
  {
   "cell_type": "markdown",
   "metadata": {},
   "source": [
    "# Create project"
   ]
  },
  {
   "cell_type": "code",
   "execution_count": null,
   "metadata": {},
   "outputs": [],
   "source": [
    "params = {'name':'Deploy DOI API/service', \n",
    "          'color':'dark-green', \\\n",
    "          'archived':False, \\\n",
    "          'is_template':False, \\\n",
    "          'public': True, \\\n",
    "          'notes':'Deploy the DOI API/service on the DOI VM.', \\\n",
    "          'default_view':'calendar', \\\n",
    "          'due_on':str(when + datetime.timedelta(days=7)), \\\n",
    "          'start_on':str(when), \\\n",
    "          'created_by':client.users.get_user(username)['name']}\n",
    "\n",
    "answer = client.projects.create_in_team( team, params )\n",
    "project = answer['gid']"
   ]
  },
  {
   "cell_type": "markdown",
   "metadata": {},
   "source": [
    "## The team"
   ]
  },
  {
   "cell_type": "code",
   "execution_count": null,
   "metadata": {},
   "outputs": [],
   "source": [
    "kenneyml = client.users.get_user('kenneyml@psc.edu')['gid']\n",
    "ltuite96 = client.users.get_user('ltuite96@psc.edu')['gid']\n",
    "dsimmel = client.users.get_user('dsimmel@psc.edu')['gid']"
   ]
  },
  {
   "cell_type": "markdown",
   "metadata": {},
   "source": [
    "# Create tasks"
   ]
  },
  {
   "cell_type": "code",
   "execution_count": null,
   "metadata": {},
   "outputs": [],
   "source": [
    "# task 1\n",
    "string = 'Have the DOI VM connect to the postgres databases on the submit VM'\n",
    "delta = 7\n",
    "\n",
    "params={'name': string, \\\n",
    "        'assignee': username, \\\n",
    "        'projects': [project], \\\n",
    "        'followers': [kenneyml, dsimmel], \\\n",
    "        'due_on': str(when+datetime.timedelta(days=maindelta+1+delta)), \\\n",
    "        'start_on': str(when)}\n",
    "\n",
    "answer = client.tasks.create_in_workspace(workspace,params)"
   ]
  },
  {
   "cell_type": "code",
   "execution_count": null,
   "metadata": {},
   "outputs": [],
   "source": [
    "# task 2\n",
    "string = 'Create Jupyter notebook or Python script that can generate the spreadsheets from the database'\n",
    "delta = 7\n",
    "\n",
    "params={'name': string, \\\n",
    "        'assignee': username, \\\n",
    "        'projects': [project], \\\n",
    "        'followers': [kenneyml], \\\n",
    "        'due_on': str(when+datetime.timedelta(days=maindelta+1+delta)), \\\n",
    "        'start_on': str(when)}\n",
    "\n",
    "answer = client.tasks.create_in_workspace(workspace,params)"
   ]
  },
  {
   "cell_type": "code",
   "execution_count": null,
   "metadata": {},
   "outputs": [],
   "source": [
    "# task 3\n",
    "string = 'Allow BrainImageLibrary resources (L-nodes) to connect to the submit VM postgres databases using the read-only user.'\n",
    "delta = 60\n",
    "\n",
    "params={'name': string, \\\n",
    "        'assignee': username, \\\n",
    "        'projects': [project], \\\n",
    "        'followers': [dsimmel], \\\n",
    "        'due_on': str(when+datetime.timedelta(days=maindelta+1+delta)), \\\n",
    "        'start_on': str(when)}\n",
    "\n",
    "answer = client.tasks.create_in_workspace(workspace,params)"
   ]
  },
  {
   "cell_type": "code",
   "execution_count": null,
   "metadata": {},
   "outputs": [],
   "source": [
    "# task 4\n",
    "string = 'Push current version of the DOI API on the DOI VM to GitHub.'\n",
    "delta = 7\n",
    "\n",
    "params={'name': string, \\\n",
    "        'assignee': username, \\\n",
    "        'projects': [project], \\\n",
    "        'followers': [ltuite96], \\\n",
    "        'due_on': str(when+datetime.timedelta(days=maindelta+1+delta)), \\\n",
    "        'start_on': str(when)}\n",
    "\n",
    "answer = client.tasks.create_in_workspace(workspace,params)"
   ]
  },
  {
   "cell_type": "code",
   "execution_count": null,
   "metadata": {},
   "outputs": [],
   "source": [
    "# task 5\n",
    "string = 'Deploy DOI API on production.'\n",
    "delta = 30\n",
    "\n",
    "params={'name': string, \\\n",
    "        'assignee': username, \\\n",
    "        'projects': [project], \\\n",
    "        'followers': [ltuite96, kenneyml], \\\n",
    "        'due_on': str(when+datetime.timedelta(days=maindelta+1+delta)), \\\n",
    "        'start_on': str(when)}\n",
    "\n",
    "answer = client.tasks.create_in_workspace(workspace,params)"
   ]
  },
  {
   "cell_type": "markdown",
   "metadata": {},
   "source": [
    "# Rename default section"
   ]
  },
  {
   "cell_type": "code",
   "execution_count": null,
   "metadata": {},
   "outputs": [],
   "source": [
    "answer = client.sections.find_by_project(project)\n",
    "section = next(answer)\n",
    "sectionid = section['gid']\n",
    "params = {'name':'To Do'}\n",
    "\n",
    "answer = client.sections.update( sectionid, params )"
   ]
  },
  {
   "cell_type": "markdown",
   "metadata": {},
   "source": [
    "# Create sections"
   ]
  },
  {
   "cell_type": "code",
   "execution_count": null,
   "metadata": {},
   "outputs": [],
   "source": [
    "strings = { 'In Progress', \\\n",
    "           'Done'}\n",
    "\n",
    "for string in strings:\n",
    "    params={'name': string}\n",
    "    answer = client.sections.create_in_project(project, params)"
   ]
  }
 ],
 "metadata": {
  "kernelspec": {
   "display_name": "Python 3 (ipykernel)",
   "language": "python",
   "name": "python3"
  },
  "language_info": {
   "codemirror_mode": {
    "name": "ipython",
    "version": 3
   },
   "file_extension": ".py",
   "mimetype": "text/x-python",
   "name": "python",
   "nbconvert_exporter": "python",
   "pygments_lexer": "ipython3",
   "version": "3.9.13"
  }
 },
 "nbformat": 4,
 "nbformat_minor": 4
}

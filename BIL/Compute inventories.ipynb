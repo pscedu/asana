{
 "cells": [
  {
   "cell_type": "markdown",
   "metadata": {},
   "source": [
    "# Connect to Asana instance"
   ]
  },
  {
   "cell_type": "code",
   "execution_count": null,
   "metadata": {},
   "outputs": [],
   "source": [
    "import os\n",
    "import asana\n",
    "from pathlib import Path\n",
    "import math\n",
    "import datetime\n",
    "import pandas as pd\n",
    "\n",
    "# @icaoberg Read secrets. Assumes file exists in ~/.ASANA_SECRETS\n",
    "file = str(Path.home()) + os.sep + '.ASANA_SECRETS'\n",
    "exec(open(file).read())\n",
    "\n",
    "client = asana.Client.access_token(PERSONAL_ACCESS_TOKEN)"
   ]
  },
  {
   "cell_type": "markdown",
   "metadata": {},
   "source": [
    "## Information and parameters"
   ]
  },
  {
   "cell_type": "code",
   "execution_count": null,
   "metadata": {},
   "outputs": [],
   "source": [
    "#SOFTWARE THAT I WANT TO INSTALL\n",
    "username='1183587634011025' #icaoberg\n",
    "workspace='1132331877475002' #PSC\n",
    "team='1192784280891412' #Brain Image Library\n",
    "\n",
    "maindelta=7\n",
    "when=datetime.date.today() + datetime.timedelta(days=maindelta+1)"
   ]
  },
  {
   "cell_type": "markdown",
   "metadata": {},
   "source": [
    "## Public datasets information"
   ]
  },
  {
   "cell_type": "code",
   "execution_count": null,
   "metadata": {},
   "outputs": [],
   "source": [
    "file = 'summary_metadata.tsv'\n",
    "df = pd.read_csv(file, sep='\\t')\n",
    "number_of_rows = len(df)\n",
    "partitions = math.ceil(number_of_rows/500)"
   ]
  },
  {
   "cell_type": "markdown",
   "metadata": {},
   "source": [
    "# Create project"
   ]
  },
  {
   "cell_type": "code",
   "execution_count": null,
   "metadata": {},
   "outputs": [],
   "source": [
    "params = {'name':'Build inventories for all public datasets', \n",
    "          'color':'dark-green', \\\n",
    "          'archived':False, \\\n",
    "          'is_template':False, \\\n",
    "          'public': True, \\\n",
    "          'notes':'Download latest summary metadata TSV file and build inventories for all public datasets.', \\\n",
    "          'default_view':'calendar', \\\n",
    "          'due_on':str(when + datetime.timedelta(days=7)), \\\n",
    "          'start_on':str(when), \\\n",
    "          'created_by':client.users.get_user(username)['name']}\n",
    "\n",
    "answer = client.projects.create_in_team( team, params )\n",
    "project = answer['gid']"
   ]
  },
  {
   "cell_type": "markdown",
   "metadata": {},
   "source": [
    "# Create tasks"
   ]
  },
  {
   "cell_type": "code",
   "execution_count": null,
   "metadata": {},
   "outputs": [],
   "source": [
    "strings = []\n",
    "deltas = []\n",
    "\n",
    "strings.append(f'Divide all public datasets into {str(partitions)}')\n",
    "deltas.extend([1])\n",
    "\n",
    "for i in range(partitions):\n",
    "    strings.append(f'Build inventories on partition {str(i+1)}')\n",
    "    deltas.extend([7])\n",
    "\n",
    "for delta, string in zip(deltas, strings):\n",
    "    params={'name': string, \\\n",
    "            'assignee': username, \\\n",
    "            'projects': [project], \\\n",
    "            'due_on': str(when+datetime.timedelta(days=maindelta+1+delta)), \\\n",
    "            'start_on': str(when)}\n",
    "\n",
    "    answer = client.tasks.create_in_workspace(workspace,params)"
   ]
  },
  {
   "cell_type": "markdown",
   "metadata": {},
   "source": [
    "# Rename default section"
   ]
  },
  {
   "cell_type": "code",
   "execution_count": null,
   "metadata": {},
   "outputs": [],
   "source": [
    "answer = client.sections.find_by_project(project)\n",
    "section = next(answer)\n",
    "sectionid = section['gid']\n",
    "params = {'name':'To Do'}\n",
    "\n",
    "answer = client.sections.update( sectionid, params )"
   ]
  },
  {
   "cell_type": "markdown",
   "metadata": {},
   "source": [
    "# Create sections"
   ]
  },
  {
   "cell_type": "code",
   "execution_count": null,
   "metadata": {},
   "outputs": [],
   "source": [
    "strings = { 'In Progress', \\\n",
    "           'Done'}\n",
    "\n",
    "for string in strings:\n",
    "    params={'name': string}\n",
    "    answer = client.sections.create_in_project(project, params)"
   ]
  }
 ],
 "metadata": {
  "kernelspec": {
   "display_name": "Python 3 (ipykernel)",
   "language": "python",
   "name": "python3"
  },
  "language_info": {
   "codemirror_mode": {
    "name": "ipython",
    "version": 3
   },
   "file_extension": ".py",
   "mimetype": "text/x-python",
   "name": "python",
   "nbconvert_exporter": "python",
   "pygments_lexer": "ipython3",
   "version": "3.9.13"
  }
 },
 "nbformat": 4,
 "nbformat_minor": 4
}
